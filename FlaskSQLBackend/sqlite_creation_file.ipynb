{
 "cells": [
  {
   "cell_type": "markdown",
   "metadata": {},
   "source": [
    "# Basic Imports & Sqlite Setup"
   ]
  },
  {
   "cell_type": "code",
   "execution_count": 2,
   "metadata": {},
   "outputs": [],
   "source": [
    "# Basic Imports\n",
    "from sqlalchemy import create_engine, text\n",
    "import pandas as pd\n",
    "import sqlite3 as sql3\n",
    "\n",
    "# Importing Processed Data CSV\n",
    "laptop_data = pd.read_csv(\"./../Resources/laptop_data.csv\")\n",
    "\n",
    "# Dropping the index column included in the csv\n",
    "laptop_data = laptop_data.rename(columns={'Unnamed: 0' : \"Laptop_Index\"})"
   ]
  },
  {
   "cell_type": "code",
   "execution_count": 3,
   "metadata": {},
   "outputs": [
    {
     "data": {
      "text/html": [
       "<div>\n",
       "<style scoped>\n",
       "    .dataframe tbody tr th:only-of-type {\n",
       "        vertical-align: middle;\n",
       "    }\n",
       "\n",
       "    .dataframe tbody tr th {\n",
       "        vertical-align: top;\n",
       "    }\n",
       "\n",
       "    .dataframe thead th {\n",
       "        text-align: right;\n",
       "    }\n",
       "</style>\n",
       "<table border=\"1\" class=\"dataframe\">\n",
       "  <thead>\n",
       "    <tr style=\"text-align: right;\">\n",
       "      <th></th>\n",
       "      <th>Laptop_Index</th>\n",
       "      <th>Company</th>\n",
       "      <th>TypeName</th>\n",
       "      <th>Inches</th>\n",
       "      <th>Cpu</th>\n",
       "      <th>Ram</th>\n",
       "      <th>Memory</th>\n",
       "      <th>Gpu</th>\n",
       "      <th>OpSys</th>\n",
       "      <th>Weight</th>\n",
       "      <th>Price</th>\n",
       "      <th>ScreenWidth</th>\n",
       "      <th>ScreenHeight</th>\n",
       "    </tr>\n",
       "  </thead>\n",
       "  <tbody>\n",
       "    <tr>\n",
       "      <th>0</th>\n",
       "      <td>0</td>\n",
       "      <td>Apple</td>\n",
       "      <td>Ultrabook</td>\n",
       "      <td>13.3</td>\n",
       "      <td>Intel Core i5 2.3GHz</td>\n",
       "      <td>8GB</td>\n",
       "      <td>128GB SSD</td>\n",
       "      <td>Intel Iris Plus Graphics 640</td>\n",
       "      <td>macOS</td>\n",
       "      <td>1.37kg</td>\n",
       "      <td>71378.6832</td>\n",
       "      <td>2560</td>\n",
       "      <td>1600</td>\n",
       "    </tr>\n",
       "    <tr>\n",
       "      <th>1</th>\n",
       "      <td>1</td>\n",
       "      <td>Apple</td>\n",
       "      <td>Ultrabook</td>\n",
       "      <td>13.3</td>\n",
       "      <td>Intel Core i5 1.8GHz</td>\n",
       "      <td>8GB</td>\n",
       "      <td>128GB Flash Storage</td>\n",
       "      <td>Intel HD Graphics 6000</td>\n",
       "      <td>macOS</td>\n",
       "      <td>1.34kg</td>\n",
       "      <td>47895.5232</td>\n",
       "      <td>1440</td>\n",
       "      <td>900</td>\n",
       "    </tr>\n",
       "    <tr>\n",
       "      <th>2</th>\n",
       "      <td>2</td>\n",
       "      <td>HP</td>\n",
       "      <td>Notebook</td>\n",
       "      <td>15.6</td>\n",
       "      <td>Intel Core i5 7200U 2.5GHz</td>\n",
       "      <td>8GB</td>\n",
       "      <td>256GB SSD</td>\n",
       "      <td>Intel HD Graphics 620</td>\n",
       "      <td>No OS</td>\n",
       "      <td>1.86kg</td>\n",
       "      <td>30636.0000</td>\n",
       "      <td>1920</td>\n",
       "      <td>1080</td>\n",
       "    </tr>\n",
       "    <tr>\n",
       "      <th>3</th>\n",
       "      <td>3</td>\n",
       "      <td>Apple</td>\n",
       "      <td>Ultrabook</td>\n",
       "      <td>15.4</td>\n",
       "      <td>Intel Core i7 2.7GHz</td>\n",
       "      <td>16GB</td>\n",
       "      <td>512GB SSD</td>\n",
       "      <td>AMD Radeon Pro 455</td>\n",
       "      <td>macOS</td>\n",
       "      <td>1.83kg</td>\n",
       "      <td>135195.3360</td>\n",
       "      <td>2880</td>\n",
       "      <td>1800</td>\n",
       "    </tr>\n",
       "    <tr>\n",
       "      <th>4</th>\n",
       "      <td>4</td>\n",
       "      <td>Apple</td>\n",
       "      <td>Ultrabook</td>\n",
       "      <td>13.3</td>\n",
       "      <td>Intel Core i5 3.1GHz</td>\n",
       "      <td>8GB</td>\n",
       "      <td>256GB SSD</td>\n",
       "      <td>Intel Iris Plus Graphics 650</td>\n",
       "      <td>macOS</td>\n",
       "      <td>1.37kg</td>\n",
       "      <td>96095.8080</td>\n",
       "      <td>2560</td>\n",
       "      <td>1600</td>\n",
       "    </tr>\n",
       "  </tbody>\n",
       "</table>\n",
       "</div>"
      ],
      "text/plain": [
       "   Laptop_Index Company   TypeName  Inches                         Cpu   Ram  \\\n",
       "0             0   Apple  Ultrabook    13.3        Intel Core i5 2.3GHz   8GB   \n",
       "1             1   Apple  Ultrabook    13.3        Intel Core i5 1.8GHz   8GB   \n",
       "2             2      HP   Notebook    15.6  Intel Core i5 7200U 2.5GHz   8GB   \n",
       "3             3   Apple  Ultrabook    15.4        Intel Core i7 2.7GHz  16GB   \n",
       "4             4   Apple  Ultrabook    13.3        Intel Core i5 3.1GHz   8GB   \n",
       "\n",
       "                Memory                           Gpu  OpSys  Weight  \\\n",
       "0            128GB SSD  Intel Iris Plus Graphics 640  macOS  1.37kg   \n",
       "1  128GB Flash Storage        Intel HD Graphics 6000  macOS  1.34kg   \n",
       "2            256GB SSD         Intel HD Graphics 620  No OS  1.86kg   \n",
       "3            512GB SSD            AMD Radeon Pro 455  macOS  1.83kg   \n",
       "4            256GB SSD  Intel Iris Plus Graphics 650  macOS  1.37kg   \n",
       "\n",
       "         Price ScreenWidth ScreenHeight  \n",
       "0   71378.6832        2560         1600  \n",
       "1   47895.5232        1440          900  \n",
       "2   30636.0000        1920         1080  \n",
       "3  135195.3360        2880         1800  \n",
       "4   96095.8080        2560         1600  "
      ]
     },
     "execution_count": 3,
     "metadata": {},
     "output_type": "execute_result"
    }
   ],
   "source": [
    "# Processing the \"ScreenResolution\" column so that it just stores the resolution (and no other additional\n",
    "# information like display type or resolution names (i.e. \"Full HD\" or \"4k\")\n",
    "laptop_data[\"ScreenResolution\"] = laptop_data[\"ScreenResolution\"].apply(lambda x: x.split(\" \")[-1])\n",
    "resolutions = laptop_data[\"ScreenResolution\"].apply(lambda x : x.split(\"x\"))\n",
    "\n",
    "laptop_screen_widths = resolutions.apply(lambda x : x[0])\n",
    "laptop_screen_heights = resolutions.apply(lambda x : x[1])\n",
    "\n",
    "laptop_data[\"ScreenWidth\"] = laptop_screen_widths\n",
    "laptop_data[\"ScreenHeight\"] = laptop_screen_heights\n",
    "\n",
    "del laptop_data[\"ScreenResolution\"]\n",
    "\n",
    "laptop_data.head()"
   ]
  },
  {
   "cell_type": "code",
   "execution_count": 4,
   "metadata": {},
   "outputs": [],
   "source": [
    "# Separating the CPU manufacturer from the CPU model name from the speed of the CPU\n",
    "laptop_data[\"Cpu\"] = laptop_data[\"Cpu\"].apply(lambda x: x.split(\" \"))\n",
    "\n",
    "cpu_manufacturer = laptop_data[\"Cpu\"].apply(lambda x : x[0])\n",
    "cpu_speed = laptop_data[\"Cpu\"].apply(lambda x : x[-1][:-3])\n",
    "cpu_model = laptop_data[\"Cpu\"].apply(lambda x : \" \".join(x[1:-1][0:2]))\n",
    "\n",
    "laptop_data[\"CpuManufacturer\"] = cpu_manufacturer\n",
    "laptop_data[\"CpuSpeed\"] = cpu_speed\n",
    "laptop_data[\"CpuModel\"] = cpu_model\n",
    "\n",
    "del laptop_data[\"Cpu\"]"
   ]
  },
  {
   "cell_type": "code",
   "execution_count": 5,
   "metadata": {},
   "outputs": [],
   "source": [
    "# Processing the storage component of the dataset (which is mislabeled as \"memory\" in the dataset)\n",
    "def storage_processor(storage_input):\n",
    "    output_storage_modes = []\n",
    "\n",
    "    if \"+\" in storage_input:\n",
    "        storage_modes = storage_input.split(\" + \")\n",
    "\n",
    "        for storage_mode in storage_modes:\n",
    "            modifier = 1\n",
    "\n",
    "            if \"TB\" in storage_mode:\n",
    "                modifier = 1000\n",
    "\n",
    "            split_storage_mode = storage_mode.strip().split(\" \")\n",
    "\n",
    "            storage_amount = float(split_storage_mode[0][0:-2]) * modifier\n",
    "            storage_type = \" \".join(split_storage_mode[1:])\n",
    "\n",
    "            output_storage_modes.append([storage_amount, storage_type])\n",
    "    else:\n",
    "        modifier = 1\n",
    "\n",
    "        if \"TB\" in storage_input:\n",
    "            modifier = 1000\n",
    "\n",
    "        split_storage_mode = storage_input.split(\" \")\n",
    "\n",
    "        storage_amount = float(split_storage_mode[0][0:-2]) * modifier\n",
    "        storage_type = \" \".join(split_storage_mode[1:])\n",
    "        \n",
    "        output_storage_modes.append([storage_amount, storage_type])\n",
    "\n",
    "    return output_storage_modes\n",
    "\n",
    "laptop_data[\"Memory\"] = laptop_data[\"Memory\"].apply(storage_processor)\n",
    "\n",
    "primary_storage_amount = laptop_data[\"Memory\"].apply(lambda x : x[0][0])\n",
    "primary_storage_type = laptop_data[\"Memory\"].apply(lambda x : x[0][1])\n",
    "\n",
    "secondary_storage_amount = laptop_data[\"Memory\"].apply(lambda x : x[1][0] if len(x) > 1 else 0)\n",
    "secondary_storage_type = laptop_data[\"Memory\"].apply(lambda x : x[1][1] if len(x) > 1 else \"None\")\n",
    "\n",
    "laptop_data[\"PrimaryStorageAmount\"] = primary_storage_amount\n",
    "laptop_data[\"PrimaryStorageType\"] = primary_storage_type\n",
    "\n",
    "laptop_data[\"SecondaryStorageAmount\"] = secondary_storage_amount\n",
    "laptop_data[\"SecondaryStorageType\"] = secondary_storage_type\n",
    "\n",
    "del laptop_data[\"Memory\"]"
   ]
  },
  {
   "cell_type": "code",
   "execution_count": 6,
   "metadata": {},
   "outputs": [],
   "source": [
    "# Processing the memory (\"RAM\" to differentiate it from the incorrectly labeled \"Memory\" column in the\n",
    "# dataset that actually stores data on the laptops storage)\n",
    "laptop_data[\"Ram\"] = laptop_data[\"Ram\"].apply(lambda x: x[0:-2])\n",
    "laptop_data = laptop_data.rename(columns={\"Ram\" : \"Memory\"})"
   ]
  },
  {
   "cell_type": "code",
   "execution_count": 7,
   "metadata": {},
   "outputs": [],
   "source": [
    "# Renaming \"OpSys\" to \"OperatingSystem\"\n",
    "laptop_data = laptop_data.rename(columns={\"OpSys\" : \"OperatingSystem\"})"
   ]
  },
  {
   "cell_type": "code",
   "execution_count": 8,
   "metadata": {},
   "outputs": [],
   "source": [
    "# Converting the weight column in the dataset to so that it no longer contains a unit (so it can be read as a numeric value)\n",
    "laptop_data[\"Weight\"] = laptop_data[\"Weight\"].apply(lambda x : x[0 : -2])"
   ]
  },
  {
   "cell_type": "code",
   "execution_count": 9,
   "metadata": {},
   "outputs": [
    {
     "data": {
      "text/html": [
       "<div>\n",
       "<style scoped>\n",
       "    .dataframe tbody tr th:only-of-type {\n",
       "        vertical-align: middle;\n",
       "    }\n",
       "\n",
       "    .dataframe tbody tr th {\n",
       "        vertical-align: top;\n",
       "    }\n",
       "\n",
       "    .dataframe thead th {\n",
       "        text-align: right;\n",
       "    }\n",
       "</style>\n",
       "<table border=\"1\" class=\"dataframe\">\n",
       "  <thead>\n",
       "    <tr style=\"text-align: right;\">\n",
       "      <th></th>\n",
       "      <th>Laptop_Index</th>\n",
       "      <th>Company</th>\n",
       "      <th>TypeName</th>\n",
       "      <th>Inches</th>\n",
       "      <th>Memory</th>\n",
       "      <th>Gpu</th>\n",
       "      <th>OperatingSystem</th>\n",
       "      <th>Weight</th>\n",
       "      <th>Price</th>\n",
       "      <th>ScreenWidth</th>\n",
       "      <th>ScreenHeight</th>\n",
       "      <th>CpuManufacturer</th>\n",
       "      <th>CpuSpeed</th>\n",
       "      <th>CpuModel</th>\n",
       "      <th>PrimaryStorageAmount</th>\n",
       "      <th>PrimaryStorageType</th>\n",
       "      <th>SecondaryStorageAmount</th>\n",
       "      <th>SecondaryStorageType</th>\n",
       "    </tr>\n",
       "  </thead>\n",
       "  <tbody>\n",
       "    <tr>\n",
       "      <th>0</th>\n",
       "      <td>0</td>\n",
       "      <td>Apple</td>\n",
       "      <td>Ultrabook</td>\n",
       "      <td>13.3</td>\n",
       "      <td>8</td>\n",
       "      <td>Intel Iris Plus Graphics 640</td>\n",
       "      <td>macOS</td>\n",
       "      <td>1.37</td>\n",
       "      <td>71378.6832</td>\n",
       "      <td>2560</td>\n",
       "      <td>1600</td>\n",
       "      <td>Intel</td>\n",
       "      <td>2.3</td>\n",
       "      <td>Core i5</td>\n",
       "      <td>128.0</td>\n",
       "      <td>SSD</td>\n",
       "      <td>0.0</td>\n",
       "      <td>None</td>\n",
       "    </tr>\n",
       "    <tr>\n",
       "      <th>1</th>\n",
       "      <td>1</td>\n",
       "      <td>Apple</td>\n",
       "      <td>Ultrabook</td>\n",
       "      <td>13.3</td>\n",
       "      <td>8</td>\n",
       "      <td>Intel HD Graphics 6000</td>\n",
       "      <td>macOS</td>\n",
       "      <td>1.34</td>\n",
       "      <td>47895.5232</td>\n",
       "      <td>1440</td>\n",
       "      <td>900</td>\n",
       "      <td>Intel</td>\n",
       "      <td>1.8</td>\n",
       "      <td>Core i5</td>\n",
       "      <td>128.0</td>\n",
       "      <td>Flash Storage</td>\n",
       "      <td>0.0</td>\n",
       "      <td>None</td>\n",
       "    </tr>\n",
       "    <tr>\n",
       "      <th>2</th>\n",
       "      <td>2</td>\n",
       "      <td>HP</td>\n",
       "      <td>Notebook</td>\n",
       "      <td>15.6</td>\n",
       "      <td>8</td>\n",
       "      <td>Intel HD Graphics 620</td>\n",
       "      <td>No OS</td>\n",
       "      <td>1.86</td>\n",
       "      <td>30636.0000</td>\n",
       "      <td>1920</td>\n",
       "      <td>1080</td>\n",
       "      <td>Intel</td>\n",
       "      <td>2.5</td>\n",
       "      <td>Core i5</td>\n",
       "      <td>256.0</td>\n",
       "      <td>SSD</td>\n",
       "      <td>0.0</td>\n",
       "      <td>None</td>\n",
       "    </tr>\n",
       "    <tr>\n",
       "      <th>3</th>\n",
       "      <td>3</td>\n",
       "      <td>Apple</td>\n",
       "      <td>Ultrabook</td>\n",
       "      <td>15.4</td>\n",
       "      <td>16</td>\n",
       "      <td>AMD Radeon Pro 455</td>\n",
       "      <td>macOS</td>\n",
       "      <td>1.83</td>\n",
       "      <td>135195.3360</td>\n",
       "      <td>2880</td>\n",
       "      <td>1800</td>\n",
       "      <td>Intel</td>\n",
       "      <td>2.7</td>\n",
       "      <td>Core i7</td>\n",
       "      <td>512.0</td>\n",
       "      <td>SSD</td>\n",
       "      <td>0.0</td>\n",
       "      <td>None</td>\n",
       "    </tr>\n",
       "    <tr>\n",
       "      <th>4</th>\n",
       "      <td>4</td>\n",
       "      <td>Apple</td>\n",
       "      <td>Ultrabook</td>\n",
       "      <td>13.3</td>\n",
       "      <td>8</td>\n",
       "      <td>Intel Iris Plus Graphics 650</td>\n",
       "      <td>macOS</td>\n",
       "      <td>1.37</td>\n",
       "      <td>96095.8080</td>\n",
       "      <td>2560</td>\n",
       "      <td>1600</td>\n",
       "      <td>Intel</td>\n",
       "      <td>3.1</td>\n",
       "      <td>Core i5</td>\n",
       "      <td>256.0</td>\n",
       "      <td>SSD</td>\n",
       "      <td>0.0</td>\n",
       "      <td>None</td>\n",
       "    </tr>\n",
       "  </tbody>\n",
       "</table>\n",
       "</div>"
      ],
      "text/plain": [
       "   Laptop_Index Company   TypeName  Inches Memory  \\\n",
       "0             0   Apple  Ultrabook    13.3      8   \n",
       "1             1   Apple  Ultrabook    13.3      8   \n",
       "2             2      HP   Notebook    15.6      8   \n",
       "3             3   Apple  Ultrabook    15.4     16   \n",
       "4             4   Apple  Ultrabook    13.3      8   \n",
       "\n",
       "                            Gpu OperatingSystem Weight        Price  \\\n",
       "0  Intel Iris Plus Graphics 640           macOS   1.37   71378.6832   \n",
       "1        Intel HD Graphics 6000           macOS   1.34   47895.5232   \n",
       "2         Intel HD Graphics 620           No OS   1.86   30636.0000   \n",
       "3            AMD Radeon Pro 455           macOS   1.83  135195.3360   \n",
       "4  Intel Iris Plus Graphics 650           macOS   1.37   96095.8080   \n",
       "\n",
       "  ScreenWidth ScreenHeight CpuManufacturer CpuSpeed CpuModel  \\\n",
       "0        2560         1600           Intel      2.3  Core i5   \n",
       "1        1440          900           Intel      1.8  Core i5   \n",
       "2        1920         1080           Intel      2.5  Core i5   \n",
       "3        2880         1800           Intel      2.7  Core i7   \n",
       "4        2560         1600           Intel      3.1  Core i5   \n",
       "\n",
       "   PrimaryStorageAmount PrimaryStorageType  SecondaryStorageAmount  \\\n",
       "0                 128.0                SSD                     0.0   \n",
       "1                 128.0      Flash Storage                     0.0   \n",
       "2                 256.0                SSD                     0.0   \n",
       "3                 512.0                SSD                     0.0   \n",
       "4                 256.0                SSD                     0.0   \n",
       "\n",
       "  SecondaryStorageType  \n",
       "0                 None  \n",
       "1                 None  \n",
       "2                 None  \n",
       "3                 None  \n",
       "4                 None  "
      ]
     },
     "execution_count": 9,
     "metadata": {},
     "output_type": "execute_result"
    }
   ],
   "source": [
    "laptop_data.head()"
   ]
  },
  {
   "cell_type": "code",
   "execution_count": 10,
   "metadata": {},
   "outputs": [],
   "source": [
    "del laptop_data[\"Laptop_Index\"]"
   ]
  },
  {
   "cell_type": "code",
   "execution_count": 11,
   "metadata": {},
   "outputs": [
    {
     "data": {
      "text/plain": [
       "Company\n",
       "Dell      297\n",
       "Lenovo    297\n",
       "HP        274\n",
       "Other     174\n",
       "Asus      158\n",
       "Acer      103\n",
       "Name: count, dtype: int64"
      ]
     },
     "execution_count": 11,
     "metadata": {},
     "output_type": "execute_result"
    }
   ],
   "source": [
    "company_counts = laptop_data[\"Company\"].value_counts()\n",
    "companies_to_remove = company_counts[company_counts < 100].index\n",
    "\n",
    "# Replace in dataframe\n",
    "for company in companies_to_remove:\n",
    "    laptop_data['Company'] = laptop_data['Company'].replace(company,\"Other\")\n",
    "\n",
    "# Check to make sure replacement was successful\n",
    "laptop_data['Company'].value_counts()"
   ]
  },
  {
   "cell_type": "code",
   "execution_count": 12,
   "metadata": {},
   "outputs": [
    {
     "data": {
      "text/plain": [
       "TypeName\n",
       "Notebook              727\n",
       "Gaming                205\n",
       "Ultrabook             196\n",
       "2 in 1 Convertible    121\n",
       "Other                  54\n",
       "Name: count, dtype: int64"
      ]
     },
     "execution_count": 12,
     "metadata": {},
     "output_type": "execute_result"
    }
   ],
   "source": [
    "type_counts = laptop_data[\"TypeName\"].value_counts()\n",
    "types_to_remove = type_counts[type_counts < 100].index\n",
    "\n",
    "# Replace in dataframe\n",
    "for type in types_to_remove:\n",
    "    laptop_data['TypeName'] = laptop_data['TypeName'].replace(type,\"Other\")\n",
    "\n",
    "# Check to make sure replacement was successful\n",
    "laptop_data['TypeName'].value_counts()"
   ]
  },
  {
   "cell_type": "code",
   "execution_count": 13,
   "metadata": {},
   "outputs": [
    {
     "data": {
      "text/plain": [
       "Gpu\n",
       "Other                         319\n",
       "Intel HD Graphics 620         281\n",
       "Intel HD Graphics 520         185\n",
       "Intel UHD Graphics 620         68\n",
       "Nvidia GeForce GTX 1050        66\n",
       "Nvidia GeForce GTX 1060        48\n",
       "Nvidia GeForce 940MX           43\n",
       "AMD Radeon 530                 41\n",
       "Intel HD Graphics 500          39\n",
       "Intel HD Graphics 400          37\n",
       "Nvidia GeForce GTX 1070        30\n",
       "Intel HD Graphics              29\n",
       "Nvidia GeForce GTX 1050 Ti     28\n",
       "AMD Radeon R5 M430             22\n",
       "Nvidia GeForce 930MX           20\n",
       "AMD Radeon 520                 17\n",
       "Nvidia GeForce MX150           15\n",
       "Intel HD Graphics 515          15\n",
       "Name: count, dtype: int64"
      ]
     },
     "execution_count": 13,
     "metadata": {},
     "output_type": "execute_result"
    }
   ],
   "source": [
    "gpu_counts = laptop_data[\"Gpu\"].value_counts()\n",
    "gpus_to_remove = gpu_counts[gpu_counts < 15].index\n",
    "\n",
    "# Replace in dataframe\n",
    "for gpu in gpus_to_remove:\n",
    "    laptop_data['Gpu'] = laptop_data['Gpu'].replace(gpu,\"Other\")\n",
    "\n",
    "# Check to make sure replacement was successful\n",
    "laptop_data['Gpu'].value_counts()"
   ]
  },
  {
   "cell_type": "code",
   "execution_count": 14,
   "metadata": {},
   "outputs": [
    {
     "data": {
      "text/plain": [
       "OperatingSystem\n",
       "Windows 10    1072\n",
       "No OS           66\n",
       "Linux           62\n",
       "Windows 7       45\n",
       "Chrome OS       27\n",
       "Other           18\n",
       "macOS           13\n",
       "Name: count, dtype: int64"
      ]
     },
     "execution_count": 14,
     "metadata": {},
     "output_type": "execute_result"
    }
   ],
   "source": [
    "os_counts = laptop_data[\"OperatingSystem\"].value_counts()\n",
    "os_to_remove = os_counts[os_counts < 10].index\n",
    "\n",
    "# Replace in dataframe\n",
    "for os in os_to_remove:\n",
    "    laptop_data['OperatingSystem'] = laptop_data['OperatingSystem'].replace(os,\"Other\")\n",
    "\n",
    "# Check to make sure replacement was successful\n",
    "laptop_data['OperatingSystem'].value_counts()"
   ]
  },
  {
   "cell_type": "code",
   "execution_count": 15,
   "metadata": {},
   "outputs": [],
   "source": [
    "laptop_data = laptop_data[(laptop_data[\"CpuManufacturer\"] == \"Intel\") | (laptop_data[\"CpuManufacturer\"] == \"AMD\")]"
   ]
  },
  {
   "cell_type": "code",
   "execution_count": 16,
   "metadata": {},
   "outputs": [
    {
     "data": {
      "text/plain": [
       "CpuModel\n",
       "Core i7           527\n",
       "Core i5           423\n",
       "Core i3           136\n",
       "Celeron Dual       80\n",
       "Other              78\n",
       "Pentium Quad       27\n",
       "Core M             19\n",
       "A9-Series 9420     12\n",
       "Name: count, dtype: int64"
      ]
     },
     "execution_count": 16,
     "metadata": {},
     "output_type": "execute_result"
    }
   ],
   "source": [
    "cpu_counts = laptop_data[\"CpuModel\"].value_counts()\n",
    "cpu_to_remove = cpu_counts[cpu_counts < 10].index\n",
    "\n",
    "# Replace in dataframe\n",
    "for cpu in cpu_to_remove:\n",
    "    laptop_data['CpuModel'] = laptop_data['CpuModel'].replace(cpu,\"Other\")\n",
    "\n",
    "# Check to make sure replacement was successful\n",
    "laptop_data['CpuModel'].value_counts()"
   ]
  },
  {
   "cell_type": "code",
   "execution_count": 17,
   "metadata": {},
   "outputs": [
    {
     "data": {
      "text/plain": [
       "SecondaryStorageType\n",
       "None      1094\n",
       "HDD        202\n",
       "SSD          4\n",
       "Hybrid       2\n",
       "Name: count, dtype: int64"
      ]
     },
     "execution_count": 17,
     "metadata": {},
     "output_type": "execute_result"
    }
   ],
   "source": [
    "laptop_data[\"SecondaryStorageType\"].value_counts()"
   ]
  },
  {
   "cell_type": "code",
   "execution_count": 18,
   "metadata": {},
   "outputs": [
    {
     "name": "stdout",
     "output_type": "stream",
     "text": [
      "17\n"
     ]
    }
   ],
   "source": [
    "print(len(laptop_data.columns))"
   ]
  },
  {
   "cell_type": "code",
   "execution_count": null,
   "metadata": {},
   "outputs": [],
   "source": [
    "# Creating the database sqlite file to insert the data into from the csv\n",
    "database_path = 'laptop_data_database.sqlite'\n",
    "\n",
    "db_con = sql3.connect(database_path)\n",
    "cursor = db_con.cursor()\n",
    "\n",
    "cursor.execute('''CREATE TABLE IF NOT EXISTS Laptops (\n",
    "COMPANY TEXT NOT NULL,\n",
    "TYPENAME TEXT NOT NULL,\n",
    "INCHES FLOAT NOT NULL,\n",
    "MEMORY INT NOT NULL,\n",
    "GPU TEXT NOT NULL,\n",
    "OPERATINGSYSTEM TEXT NOT NULL,\n",
    "WEIGHT FLOAT NOT NULL,\n",
    "PRICE FLOAT NOT NULL,\n",
    "SCREENWIDTH INT NOT NULL,\n",
    "SCREENHEIGHT INT NOT NULL,\n",
    "CPUMANUFACTURER TEXT NOT NULL,\n",
    "CPUSPEED FLOAT NOT NULL,\n",
    "CPUMODEL TEXT NOT NULL,\n",
    "PRIMARYSTORAGEAMOUNT FLOAT NOT NULL,\n",
    "PRIMARYSTORAGETYPE TEXT NOT NULL,\n",
    "SECONDARYSTORAGEAMOUNT FLOAT,\n",
    "SECONDARYSTORAGETYPE FLOAT\n",
    ")''')\n",
    "\n",
    "db_con.commit()\n",
    "db_con.close()"
   ]
  },
  {
   "cell_type": "code",
   "execution_count": null,
   "metadata": {},
   "outputs": [
    {
     "name": "stdout",
     "output_type": "stream",
     "text": [
      "2025-02-10 20:10:29,406 INFO sqlalchemy.engine.Engine BEGIN (implicit)\n",
      "2025-02-10 20:10:29,413 INFO sqlalchemy.engine.Engine PRAGMA main.table_info(\"Laptops\")\n",
      "2025-02-10 20:10:29,416 INFO sqlalchemy.engine.Engine [raw sql] ()\n",
      "2025-02-10 20:10:29,444 INFO sqlalchemy.engine.Engine INSERT INTO \"Laptops\" (\"Company\", \"TypeName\", \"Inches\", \"Memory\", \"Gpu\", \"OperatingSystem\", \"Weight\", \"Price\", \"ScreenWidth\", \"ScreenHeight\", \"CpuManufacturer\", \"CpuSpeed\", \"CpuModel\", \"PrimaryStorageAmount\", \"PrimaryStorageType\", \"SecondaryStorageAmount\", \"SecondaryStorageType\") VALUES (?, ?, ?, ?, ?, ?, ?, ?, ?, ?, ?, ?, ?, ?, ?, ?, ?)\n",
      "2025-02-10 20:10:29,445 INFO sqlalchemy.engine.Engine [generated in 0.01874s] [('Other', 'Ultrabook', 13.3, '8', 'Other', 'macOS', '1.37', 71378.6832, '2560', '1600', 'Intel', '2.3', 'Core i5', 128.0, 'SSD', 0.0, 'None'), ('Other', 'Ultrabook', 13.3, '8', 'Other', 'macOS', '1.34', 47895.5232, '1440', '900', 'Intel', '1.8', 'Core i5', 128.0, 'Flash Storage', 0.0, 'None'), ('HP', 'Notebook', 15.6, '8', 'Intel HD Graphics 620', 'No OS', '1.86', 30636.0, '1920', '1080', 'Intel', '2.5', 'Core i5', 256.0, 'SSD', 0.0, 'None'), ('Other', 'Ultrabook', 15.4, '16', 'Other', 'macOS', '1.83', 135195.33599999998, '2880', '1800', 'Intel', '2.7', 'Core i7', 512.0, 'SSD', 0.0, 'None'), ('Other', 'Ultrabook', 13.3, '8', 'Other', 'macOS', '1.37', 96095.808, '2560', '1600', 'Intel', '3.1', 'Core i5', 256.0, 'SSD', 0.0, 'None'), ('Acer', 'Notebook', 15.6, '4', 'Other', 'Windows 10', '2.1', 21312.0, '1366', '768', 'AMD', '3', 'A9-Series 9420', 500.0, 'HDD', 0.0, 'None'), ('Other', 'Ultrabook', 15.4, '16', 'Other', 'Other', '2.04', 114017.6016, '2880', '1800', 'Intel', '2.2', 'Core i7', 256.0, 'Flash Storage', 0.0, 'None'), ('Other', 'Ultrabook', 13.3, '8', 'Other', 'macOS', '1.34', 61735.536, '1440', '900', 'Intel', '1.8', 'Core i5', 256.0, 'Flash Storage', 0.0, 'None')  ... displaying 10 of 1302 total bound parameter sets ...  ('HP', 'Notebook', 15.6, '6', 'Other', 'Windows 10', '2.19', 40705.92, '1366', '768', 'Intel', '2.5', 'Core i7', 1000.0, 'HDD', 0.0, 'None'), ('Asus', 'Notebook', 15.6, '4', 'Intel HD Graphics', 'Windows 10', '2.2', 19660.32, '1366', '768', 'Intel', '1.6', 'Celeron Dual', 500.0, 'HDD', 0.0, 'None')]\n",
      "2025-02-10 20:10:29,462 INFO sqlalchemy.engine.Engine SELECT name FROM sqlite_master WHERE type='table' AND name NOT LIKE 'sqlite~_%' ESCAPE '~' ORDER BY name\n",
      "2025-02-10 20:10:29,464 INFO sqlalchemy.engine.Engine [raw sql] ()\n",
      "2025-02-10 20:10:29,467 INFO sqlalchemy.engine.Engine COMMIT\n"
     ]
    }
   ],
   "source": [
    "# Inputting the laptop data into the sqlite file we created above\n",
    "engine = create_engine(f\"sqlite:///{database_path}\", echo=True)\n",
    "connection = engine.connect()\n",
    "\n",
    "laptop_data.to_sql(\"Laptops\", con=connection, if_exists=\"append\", index=False)\n",
    "laptop_data.to_csv(\"laptop_data.csv\")\n",
    "\n",
    "connection.commit()\n",
    "connection.close()\n",
    "engine.dispose()"
   ]
  }
 ],
 "metadata": {
  "kernelspec": {
   "display_name": "bootcamp",
   "language": "python",
   "name": "python3"
  },
  "language_info": {
   "codemirror_mode": {
    "name": "ipython",
    "version": 3
   },
   "file_extension": ".py",
   "mimetype": "text/x-python",
   "name": "python",
   "nbconvert_exporter": "python",
   "pygments_lexer": "ipython3",
   "version": "3.10.13"
  }
 },
 "nbformat": 4,
 "nbformat_minor": 2
}
